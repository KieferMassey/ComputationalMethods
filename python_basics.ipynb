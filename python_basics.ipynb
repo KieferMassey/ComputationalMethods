{
 "cells": [
  {
   "cell_type": "markdown",
   "metadata": {},
   "source": [
    "# Python Basics - Chapter 1"
   ]
  },
  {
   "cell_type": "markdown",
   "metadata": {},
   "source": [
    "## 1.1 Getting Started\n",
    "The good thing is you will *not need to install Python* or its libraries and modules for this course. You will be accessing (maybe even as you read this) and using the Buddy supercomputer to access my notes/code/homework etc. This means your time can be spent learning to code and do computational/numerical methods rather than how to install Python etc. Not that knowing how to install it is not valuable, but it's not really the focus of this class. By the way - if you do want to install python on your own computer you can do that too. \n",
    "\n",
    "We will be using Jupyter-Lab on *Buddy* to do our work. More about this later, but right you are probably looking at a jupyter notebook file... this is both like a text editor that can do *markdown* and it can also be used for editing and running code. This is primarily what I will be using for this class.\n",
    "\n",
    "There are two ways you will be running python code:\n",
    "1. Using a Jupyter Notebook within Jupyter Lab, or\n",
    "2. Using the python terminal.\n",
    "\n",
    "I'll show you how to do both."
   ]
  },
  {
   "cell_type": "markdown",
   "metadata": {},
   "source": [
    "## 1.2 Python as a Calculator\n",
    "\n",
    "Python can be used as a calculator. It can be quite handy for this. I will demonstrate the book examples for this section in this Jupyter Notebook, but you can also open a terminal if you want (hit the +-sign in the upper left of Jupyter Lab and you can choose to open a terminal)."
   ]
  },
  {
   "cell_type": "code",
   "execution_count": 1,
   "metadata": {},
   "outputs": [
    {
     "name": "stdout",
     "output_type": "stream",
     "text": [
      "The Zen of Python, by Tim Peters\n",
      "\n",
      "Beautiful is better than ugly.\n",
      "Explicit is better than implicit.\n",
      "Simple is better than complex.\n",
      "Complex is better than complicated.\n",
      "Flat is better than nested.\n",
      "Sparse is better than dense.\n",
      "Readability counts.\n",
      "Special cases aren't special enough to break the rules.\n",
      "Although practicality beats purity.\n",
      "Errors should never pass silently.\n",
      "Unless explicitly silenced.\n",
      "In the face of ambiguity, refuse the temptation to guess.\n",
      "There should be one-- and preferably only one --obvious way to do it.\n",
      "Although that way may not be obvious at first unless you're Dutch.\n",
      "Now is better than never.\n",
      "Although never is often better than *right* now.\n",
      "If the implementation is hard to explain, it's a bad idea.\n",
      "If the implementation is easy to explain, it may be a good idea.\n",
      "Namespaces are one honking great idea -- let's do more of those!\n"
     ]
    }
   ],
   "source": [
    "import this\n"
   ]
  },
  {
   "cell_type": "code",
   "execution_count": 2,
   "metadata": {},
   "outputs": [
    {
     "name": "stdout",
     "output_type": "stream",
     "text": [
      "Hello World\n"
     ]
    }
   ],
   "source": [
    "print('Hello World')         #This is the basic print statement for Python. There are fancier ways of printing... more later."
   ]
  },
  {
   "cell_type": "code",
   "execution_count": 3,
   "metadata": {},
   "outputs": [
    {
     "data": {
      "text/plain": [
       "3"
      ]
     },
     "execution_count": 3,
     "metadata": {},
     "output_type": "execute_result"
    }
   ],
   "source": [
    "1+2"
   ]
  },
  {
   "cell_type": "markdown",
   "metadata": {},
   "source": [
    "### Order of Operations (OoO)\n",
    "\n",
    "Python will do calculations in this order:\n",
    "1. Powers/Exponents\n",
    "2. Multiplication & Division\n",
    "3. Addition & Subtraction\n",
    "4. Parentheses can be used to supersede this *OoO*.\n",
    "\n",
    "Take the following example:\n",
    "$ \\large \\frac{(3)(4)}{2^2+4/2} $\n",
    "\n",
    "This should evaluate to *2*. Let's look at some different ways of doing this... the last one will take maximum advantage of the *OoO*.\n",
    "\n",
    "Also before this example it would be good to mention how to do exponents in Python (***when both the base and exponent are integers only... if either are floats DO NOT DO THIS***), which would be\n",
    "\n",
    "$ 2^2 $ would be 2**2"
   ]
  },
  {
   "cell_type": "code",
   "execution_count": 4,
   "metadata": {},
   "outputs": [
    {
     "name": "stdout",
     "output_type": "stream",
     "text": [
      "2.0\n",
      "2.0\n",
      "2.0\n"
     ]
    }
   ],
   "source": [
    "print((3*4)/(2**2+(4/2)))\n",
    "\n",
    "print((3*4)/(2**2+4/2))         #Get rid of parenthese around the 4/2... since division is done before addition, you don't need it.\n",
    "\n",
    "print(3*4/(2**2+4/2))           # 3 will be multiplied by 4, then the result will be divided by the expression in parentheses."
   ]
  },
  {
   "cell_type": "markdown",
   "metadata": {},
   "source": [
    "Let's say you wanted to calculate\n",
    "\n",
    "$ \\large \\frac{(2)(3)(4)(5)}{(6)(7)(8)} $\n",
    "\n",
    "You could do either of the following:"
   ]
  },
  {
   "cell_type": "code",
   "execution_count": 5,
   "metadata": {},
   "outputs": [
    {
     "name": "stdout",
     "output_type": "stream",
     "text": [
      "0.35714285714285715\n",
      "0.3571428571428571\n"
     ]
    }
   ],
   "source": [
    "print((2*3*4*5)/(6*7*8))\n",
    "#OR...\n",
    "print(2/6*3/7*4/8*5)"
   ]
  },
  {
   "cell_type": "code",
   "execution_count": 6,
   "metadata": {},
   "outputs": [
    {
     "data": {
      "text/plain": [
       "0.75"
      ]
     },
     "execution_count": 6,
     "metadata": {},
     "output_type": "execute_result"
    }
   ],
   "source": [
    "3/4"
   ]
  },
  {
   "cell_type": "code",
   "execution_count": 33,
   "metadata": {},
   "outputs": [
    {
     "data": {
      "text/plain": [
       "0"
      ]
     },
     "execution_count": 33,
     "metadata": {},
     "output_type": "execute_result"
    }
   ],
   "source": [
    "#if you need integer division you can do that using //\n",
    "3//4"
   ]
  },
  {
   "cell_type": "code",
   "execution_count": 7,
   "metadata": {},
   "outputs": [
    {
     "data": {
      "text/plain": [
       "1.5"
      ]
     },
     "execution_count": 7,
     "metadata": {},
     "output_type": "execute_result"
    }
   ],
   "source": [
    "_*2                     #This can be handy... the underscore (_) will use the previous value calculated."
   ]
  },
  {
   "cell_type": "code",
   "execution_count": 8,
   "metadata": {},
   "outputs": [
    {
     "data": {
      "text/plain": [
       "3.375"
      ]
     },
     "execution_count": 8,
     "metadata": {},
     "output_type": "execute_result"
    }
   ],
   "source": [
    "_**3                  #This is probably more dependable in the terminal... more about kernels and rerunning them..."
   ]
  },
  {
   "cell_type": "markdown",
   "metadata": {},
   "source": [
    "### Math functions\n",
    "\n",
    "What if you need functions to do things like $ \\sin \\pi $, $ e^2 $, $ln (\\frac{1}{2})$  ?\n",
    "\n",
    "You need the *math* module/library. Next up is how to get the *math module* loaded.\n",
    "\n",
    "The full reference for *math* is https://docs.python.org/3/library/math.html."
   ]
  },
  {
   "cell_type": "code",
   "execution_count": 9,
   "metadata": {},
   "outputs": [
    {
     "data": {
      "text/plain": [
       "1.0"
      ]
     },
     "execution_count": 9,
     "metadata": {},
     "output_type": "execute_result"
    }
   ],
   "source": [
    "import math                    #This enables all of python's built-in math functions\n",
    "math.sin(math.pi/2)            #note the way to get the full double precision version of pi is math.pi"
   ]
  },
  {
   "cell_type": "code",
   "execution_count": 10,
   "metadata": {},
   "outputs": [
    {
     "name": "stdout",
     "output_type": "stream",
     "text": [
      "1.0\n",
      "2.718281828459045\n"
     ]
    }
   ],
   "source": [
    "# Even Better\n",
    "from math import *\n",
    "# Note only do this for a few modules... ones where you need a lot of the functions... like \"math\"\n",
    "# Now you don't need to precede every use of a math function by the name of the module \"math\"\n",
    "# Also if you use the keywords *pi* or *e* they will be the full-fledged double precision version of these numbers\n",
    "\n",
    "print(sin(pi/2))\n",
    "print(e)"
   ]
  },
  {
   "cell_type": "code",
   "execution_count": 11,
   "metadata": {},
   "outputs": [
    {
     "name": "stdout",
     "output_type": "stream",
     "text": [
      "2.117000016612675\n",
      "2.718281828459045\n"
     ]
    }
   ],
   "source": [
    "print(exp(3/4))             #Note te *exp* function offers more than *e* since e = exp(1)\n",
    "print(exp(1))"
   ]
  },
  {
   "cell_type": "code",
   "execution_count": 12,
   "metadata": {},
   "outputs": [
    {
     "ename": "SyntaxError",
     "evalue": "invalid syntax (<ipython-input-12-f3676eff3280>, line 1)",
     "output_type": "error",
     "traceback": [
      "\u001b[0;36m  File \u001b[0;32m\"<ipython-input-12-f3676eff3280>\"\u001b[0;36m, line \u001b[0;32m1\u001b[0m\n\u001b[0;31m    math.factorial?               #Using the ? mark after the function name will give you some info about the function\u001b[0m\n\u001b[0m                  ^\u001b[0m\n\u001b[0;31mSyntaxError\u001b[0m\u001b[0;31m:\u001b[0m invalid syntax\n"
     ]
    }
   ],
   "source": [
    "math.factorial?               #Using the ? mark after the function name will give you some info about the function\n",
    "                              #One more thing... you can make the same kind of thing popup on your own functions (more later...)"
   ]
  },
  {
   "cell_type": "code",
   "execution_count": null,
   "metadata": {},
   "outputs": [],
   "source": [
    "factorial(4)"
   ]
  },
  {
   "cell_type": "code",
   "execution_count": null,
   "metadata": {},
   "outputs": [],
   "source": [
    "math.inf                      #This is what python considers infinity. This is useful because some function calls return infinity"
   ]
  },
  {
   "cell_type": "code",
   "execution_count": null,
   "metadata": {},
   "outputs": [],
   "source": [
    "#print(1/0)          #oops... can't do this - uncomment this line and run this to see what hap\n",
    "print(1/math.inf)    #takes the limit \n",
    "print(math.inf*1)    #still taking the limit\n",
    "print(math.inf / math.inf)   #still taking the limit... but should be undefined --->  nan = not a number"
   ]
  },
  {
   "cell_type": "code",
   "execution_count": null,
   "metadata": {},
   "outputs": [],
   "source": [
    "print(2+5j)    #This is a complex number - python uses a 'j' instead of 'i' \n",
    "print(2+5j + 3-4j)"
   ]
  },
  {
   "cell_type": "code",
   "execution_count": null,
   "metadata": {},
   "outputs": [],
   "source": [
    "a = 1e-3     #do scientific notation like this\n",
    "b = 1.2e6\n",
    "print(a,b)   #This will cause them to print as decimal numbers, but there are some easy ways to have them display in fixed \n",
    "             #and scientific notation if wanted.\n"
   ]
  },
  {
   "cell_type": "code",
   "execution_count": null,
   "metadata": {},
   "outputs": [],
   "source": [
    "a = 12     #an integer\n",
    "b = 12.    #a float or really a double if you are familiar with c (more later...)\n",
    "c = (2+6j) #complex\n",
    "print(a,b,c)\n",
    "print(type(a),type(b),type(c))"
   ]
  },
  {
   "cell_type": "markdown",
   "metadata": {},
   "source": [
    "#### Logarithms and Exponentials\n",
    "\n",
    "Here we will see examples of using various log functions. Some things to remember.\n",
    "\n",
    "- What is called a natural log ($ \\ln x $) is a log with a base of *e* ($ log_e x $).\n",
    "    - *math.log(x)*\n",
    "- What is called a common log ($ \\log x $) is a log with a base of *10* ($ log_{10} x $).\n",
    "    - *math.log10(x)*\n",
    "- A log can be calculated using a base *b* as $ log_b x $.\n",
    "    - *math.log(x,b)*\n",
    "- Calculating a log near zero is hard to do precisely, so sometimes one calculates $ \\ln (1+x) $.\n",
    "    - *math.log1p(x)*\n",
    "- Calculating $ log_2 x $ \n",
    "    - *math.log2(x)*\n",
    "- Calculating $ e^x $ is done using *exp(x)*. There are alternatives, but this will give the best result.\n",
    "    - *math.exp(x)* DO NOT use *e\\*\\*x*.\n",
    "- Calculating $ e^x - 1$ is hard... well at least to do precisely, unless you do some special things... so if you need this use:\n",
    "    - *math.expm1(x)*\n",
    "- Finally using two asterisks (i.e *x\\*\\*y*) to denote an exponent is good for integers... ***but not for floats***... so do the following:\n",
    "    - Use *.math.pow(x,y)* to calculate $ x^y $ when *x* and/or *y* are floats.\n",
    "- Square roots are common so there is a special function for this\n",
    "    - Use *.math.sqrt(x)* to find $ \\sqrt x $."
   ]
  },
  {
   "cell_type": "code",
   "execution_count": 13,
   "metadata": {},
   "outputs": [
    {
     "name": "stdout",
     "output_type": "stream",
     "text": [
      "-0.6931471805599453\n",
      "2.0\n",
      "3.0\n",
      "9.999999950000001e-09\n",
      "10.0\n",
      "4.4816890703380645\n",
      "1.0000050000166668e-05\n",
      "1.161570463594466\n",
      "9.132360045464699\n"
     ]
    }
   ],
   "source": [
    "#This is the basic version --- see fancier version below\n",
    "print(log(0.5))\n",
    "print(log10(100))\n",
    "print(log(64,4))\n",
    "print(log1p(1e-8))\n",
    "print(log2(1024))\n",
    "print(exp(1.5))\n",
    "print(expm1(1e-5))\n",
    "print(pow(1.56724423423,1/3))\n",
    "print(sqrt(83.4))"
   ]
  },
  {
   "cell_type": "markdown",
   "metadata": {},
   "source": [
    "#### Trig Functions\n",
    "\n",
    "All of your standard trig functions are there. By default the angular units are in radians.\n",
    "\n",
    "- $\\sin x$ = *sin(x)*\n",
    "- $\\cos x$ = *cos(x)*\n",
    "- $\\tan x$ = *tan(x)*\n",
    "- $\\arcsin x$ = *asin(x)*\n",
    "- $\\arccos x$ = *acos(x)*\n",
    "- $\\arctan x$ = *atan(x)*\n",
    "- $\\\\theta_{degrees} = theta_{radians} \\frac{180}{\\pi}$ = *degrees(theta_radians)*\n",
    "- $\\\\theta_{radians} = theta_{degrees} \\frac{\\pi}{180}$ = *radians(theta_degrees)*"
   ]
  },
  {
   "cell_type": "code",
   "execution_count": null,
   "metadata": {},
   "outputs": [],
   "source": [
    "#The basic version... see fancier version of these below\n",
    "print(sin(pi/3))\n",
    "print(cos(pi/3))\n",
    "print(tan(pi/3))\n",
    "print(asin(1.0))\n",
    "print(acos(1.0))\n",
    "print(atan(1.0))\n",
    "print(degrees(pi/2))\n",
    "print(radians(45))"
   ]
  },
  {
   "cell_type": "markdown",
   "metadata": {},
   "source": [
    "#### Some Other Math-related functions\n",
    "\n",
    "- *fabs* or *abs* returns the absolute value of a number\n",
    "- *ceil* returns the smallest integer greater than or equal to a number\n",
    "- *floor* returns the largest integer less than or equal to a number\n",
    "- *fmod* returns the modulus of x and y (i.e. the remainder when taking x/y)\n",
    "    - Use this version with floats, there is also an operator *%* that can used for modulus, but there are subtle differences.\n"
   ]
  },
  {
   "cell_type": "code",
   "execution_count": null,
   "metadata": {},
   "outputs": [],
   "source": [
    "print(fabs(-1.2))\n",
    "print(abs(-1.2))\n",
    "print(ceil(1.35))\n",
    "print(floor(1.35))\n",
    "print(fmod(3,1))\n",
    "print(fmod(3,2))"
   ]
  },
  {
   "cell_type": "markdown",
   "metadata": {},
   "source": [
    "#### Fancy versions of examples of log, power, and trig functions\n",
    "There is a cool thing in python called *f-strings*. They allow you to create formatted strings easily and include expressions and variables in them really easily. I use them a lot. Below are the same log, power, and trig examples as above, but this time they take advantage of using f-strings.While this is not required for you to use... I think once you see how they work, you will want to use them.\n",
    "\n",
    "The complete reference is https://docs.python.org/3/tutorial/inputoutput.html.\n",
    "\n",
    "Before jumping into *log, power, and trig* functions, here are some basics of f-strings."
   ]
  },
  {
   "cell_type": "code",
   "execution_count": 32,
   "metadata": {},
   "outputs": [
    {
     "name": "stdout",
     "output_type": "stream",
     "text": [
      "This is an f-string -- notice the f\" that starts it out and the \" that ends it\n",
      "Here is how to print variables in an f-string: Use a { and } to enclose the thing you want to print\n",
      "Examples: a=1 \t b=3.0 \t c=1.234567e-05\n",
      "good ol' tab and newline characters work here too... \n",
      " 1 \t 2 \t 3 \n",
      " 4 \t 5 \t 6\n",
      "formatting floats/doubles can be pretty convenient too: b=3.0 b=3.00 b=3.00000\n",
      "formatting floats/doubles in scientific notation is helpful also: b=3.0e+00 b=3.00e+00 b=3.000e+00\n",
      "formatting floats/doubles in scientific notation is helpful also: c=1.2e-05 c=1.23e-05 c=1.235e-05\n"
     ]
    }
   ],
   "source": [
    "print(f\"This is an f-string -- notice the f\\\" that starts it out and the \\\" that ends it\")\n",
    "a = 1\n",
    "b = 3.0\n",
    "c = 1.234567e-5\n",
    "print(f\"Here is how to print variables in an f-string: Use a {{ and }} to enclose the thing you want to print\")\n",
    "print(f\"Examples: a={a} \\t b={b} \\t c={c}\")\n",
    "print(f\"good ol' tab and newline characters work here too... \\n 1 \\t 2 \\t 3 \\n 4 \\t 5 \\t 6\")\n",
    "print(f\"formatting floats/doubles can be pretty convenient too: b={b:.1f} b={b:.2f} b={b:.5f}\")\n",
    "print(f\"formatting floats/doubles in scientific notation is helpful also: b={b:.1e} b={b:.2e} b={b:.3e}\")\n",
    "print(f\"formatting floats/doubles in scientific notation is helpful also: c={c:.1e} c={c:.2e} c={c:.3e}\")\n"
   ]
  },
  {
   "cell_type": "code",
   "execution_count": 16,
   "metadata": {},
   "outputs": [
    {
     "name": "stdout",
     "output_type": "stream",
     "text": [
      "ln(0.5) is calculated as log(0.5) = -0.6931471805599453\n",
      "log(100) is calculated as log10(100) = 2.0\n",
      "log_4(64) is calculated as log(64,4) = 3.0\n",
      "ln(1e-8 +1) is calculated as log1p(1e-8) = 9.999999950000001e-09\n",
      "log_2(1024) is calculated as log2(1024) = 10.0\n",
      "exp(1.5) is calculated as exp(1.5) = 4.4816890703380645\n",
      "exp(1e-5)-1 is calculated as expm1(1e-5) = 1.0000050000166668e-05 which is a better result than doing exp(1e-5)-1 = 1.0000050000069649e-05\n",
      "1.56724423423^(1/3) is calculated as pow(1.56724423423,1/3) = 1.161570463594466\n",
      "For the calculation just above you should generally not use 1.56724423423**(1/3), but it does work in this case... 1.161570463594466\n",
      "For the calculation of (83.4)^(1/2) use sqrt(83.4) = 9.132360045464699\n"
     ]
    }
   ],
   "source": [
    "#Note here I am starting to use something called f-strings to do formatted printing...\n",
    "#look below for examples and for a more complete reference https://docs.python.org/3/tutorial/inputoutput.html\n",
    "\n",
    "print(f\"ln(0.5) is calculated as log(0.5) = {log(0.5)}\")        #used a lot in determining and used half-lives\n",
    "print(f\"log(100) is calculated as log10(100) = {log10(100)}\")\n",
    "print(f\"log_4(64) is calculated as log(64,4) = {log(64,4)}\")\n",
    "print(f\"ln(1e-8 +1) is calculated as log1p(1e-8) = {log1p(1e-8)}\")\n",
    "print(f\"log_2(1024) is calculated as log2(1024) = {log2(1024)}\")\n",
    "print(f\"exp(1.5) is calculated as exp(1.5) = {exp(1.5)}\")\n",
    "print(f\"exp(1e-5)-1 is calculated as expm1(1e-5) = {expm1(1e-5)} which is a better result than doing exp(1e-5)-1 = {exp(1e-5)-1}\")\n",
    "print(f\"1.56724423423^(1/3) is calculated as pow(1.56724423423,1/3) = {pow(1.56724423423,1/3)}\")\n",
    "print(f\"For the calculation just above you should generally not use 1.56724423423**(1/3), but it does work in this case... {1.56724423423**(1/3)}\")\n",
    "print(f\"For the calculation of (83.4)^(1/2) use sqrt(83.4) = {sqrt(83.4)}\")"
   ]
  },
  {
   "cell_type": "code",
   "execution_count": 15,
   "metadata": {},
   "outputs": [
    {
     "name": "stdout",
     "output_type": "stream",
     "text": [
      "sin(pi/3) is calculated as sin(pi/3) = 0.8660254037844386\n",
      "cos(pi/3) is calculated as cos(pi/3) = 0.5000000000000001\n",
      "tan(pi/3) is calculated as tan(pi/3) = 1.7320508075688767\n",
      "arcsin(1.0) is calculated as asin(1.0) = 1.5707963267948966 & pi/2 = 1.5707963267948966\n",
      "arccos(1.0) is calculated as acos(1.0) = 0.0\n",
      "arctan(1.0) is calculated as atan(1.0) = 0.7853981633974483 & pi/4 = 0.7853981633974483\n",
      "Convert 1.5707963267948966 radians to degrees degrees(1.5707963267948966) = 90.0\n",
      "Convert 45 degrees to radians (which should be pi/4) radians(45) = 0.7853981633974483 which should be 0.7853981633974483\n"
     ]
    }
   ],
   "source": [
    "print(f\"sin(pi/3) is calculated as sin(pi/3) = {sin(pi/3)}\")\n",
    "print(f\"cos(pi/3) is calculated as cos(pi/3) = {cos(pi/3)}\")\n",
    "print(f\"tan(pi/3) is calculated as tan(pi/3) = {tan(pi/3)}\")\n",
    "print(f\"arcsin(1.0) is calculated as asin(1.0) = {asin(1.0)} & pi/2 = {pi/2}\") \n",
    "print(f\"arccos(1.0) is calculated as acos(1.0) = {acos(1.0)}\") \n",
    "print(f\"arctan(1.0) is calculated as atan(1.0) = {atan(1.0)} & pi/4 = {pi/4}\") \n",
    "print(f\"Convert 1.5707963267948966 radians to degrees degrees(1.5707963267948966) = {degrees(1.5707963267948966)}\") \n",
    "print(f\"Convert 45 degrees to radians (which should be pi/4) radians(45) = {radians(45)} which should be {pi/4}\") "
   ]
  },
  {
   "cell_type": "markdown",
   "metadata": {},
   "source": [
    "### Logical Expressions\n",
    "\n",
    "Like all programming languages you need a way to compare values of variables using logical/comparison operators. Here are the ones for Python:\n",
    "\n",
    "| Operator    | Description    | Example    |\n",
    "|:-----------:|:-----------:|:-----------:|\n",
    "|>|greater than|a>b|\n",
    "| >= |greater than or equal to|a>=b|\n",
    "|<|less than|a<b|\n",
    "|<=|less than or equal to|a<b|\n",
    "|!=|not equal|a!=b|\n",
    "|==|equal|a==b |"
   ]
  },
  {
   "cell_type": "markdown",
   "metadata": {},
   "source": [
    "We also need logical operators:\n",
    "\n",
    "| Operator    | Description    | Example    |\n",
    "|:-----------:|:-----------:|:-----------:|\n",
    "|and|True if both expressions are True|(a<b) and (a<c)|\n",
    "|or|True if one of the expressions is True|(a>b) or (a<c)|\n",
    "|not|True if expression is False and False if expression is True|not(a>b) or not(a<c)|\n",
    "\n",
    "\n",
    "Now some examples."
   ]
  },
  {
   "cell_type": "code",
   "execution_count": 45,
   "metadata": {},
   "outputs": [
    {
     "name": "stdout",
     "output_type": "stream",
     "text": [
      "True True True\n",
      "False False False\n",
      "\n",
      "True\n",
      "False\n",
      "\n",
      "True\n",
      "True\n",
      "False\n",
      "True\n",
      "\n",
      "False\n",
      "True\n",
      "False\n"
     ]
    }
   ],
   "source": [
    "a = 1\n",
    "b = 2\n",
    "c = 3\n",
    "print(a==1, a<b,a<c)\n",
    "print(a==2, a>b, a>c)\n",
    "print()\n",
    "\n",
    "print(a==1 and a<b)\n",
    "print(a==2 and a<b)\n",
    "print()\n",
    "\n",
    "print(a<b and a<c)\n",
    "print(a<b or a>c)\n",
    "print(a<b and a>c)\n",
    "print(a<b and a<c and b<c and (a==1 and b == 2))\n",
    "print()\n",
    "\n",
    "print(not a<c)\n",
    "print(not (a<c and a>b))\n",
    "print(not (a<c and a<b))"
   ]
  },
  {
   "cell_type": "code",
   "execution_count": null,
   "metadata": {},
   "outputs": [],
   "source": []
  }
 ],
 "metadata": {
  "kernelspec": {
   "display_name": "Python 3",
   "language": "python",
   "name": "python3"
  },
  "language_info": {
   "codemirror_mode": {
    "name": "ipython",
    "version": 3
   },
   "file_extension": ".py",
   "mimetype": "text/x-python",
   "name": "python",
   "nbconvert_exporter": "python",
   "pygments_lexer": "ipython3",
   "version": "3.7.3"
  }
 },
 "nbformat": 4,
 "nbformat_minor": 4
}
